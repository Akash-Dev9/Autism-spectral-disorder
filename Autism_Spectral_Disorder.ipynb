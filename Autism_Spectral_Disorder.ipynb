{
  "nbformat": 4,
  "nbformat_minor": 0,
  "metadata": {
    "colab": {
      "name": "Autism Spectral Disorder.ipynb",
      "provenance": [],
      "collapsed_sections": [],
      "toc_visible": true
    },
    "kernelspec": {
      "display_name": "Python 3",
      "name": "python3"
    },
    "language_info": {
      "name": "python"
    }
  },
  "cells": [
    {
      "cell_type": "code",
      "metadata": {
        "id": "lcVm7xIVjO9W"
      },
      "source": [
        "import pandas as pd\n",
        "import numpy as np\n",
        "import matplotlib.pyplot as plt\n",
        "import seaborn as sns\n",
        "%matplotlib inline"
      ],
      "execution_count": 1,
      "outputs": []
    },
    {
      "cell_type": "code",
      "metadata": {
        "colab": {
          "base_uri": "https://localhost:8080/",
          "height": 213
        },
        "id": "SMS8jo92Doyp",
        "outputId": "6edce2cc-d41c-4605-de63-6a885ac64f85"
      },
      "source": [
        "new_Autism=pd.read_csv('/content/dataset (1).csv')\n",
        "new_Autism.head(n=3)"
      ],
      "execution_count": 2,
      "outputs": [
        {
          "output_type": "execute_result",
          "data": {
            "text/html": [
              "<div>\n",
              "<style scoped>\n",
              "    .dataframe tbody tr th:only-of-type {\n",
              "        vertical-align: middle;\n",
              "    }\n",
              "\n",
              "    .dataframe tbody tr th {\n",
              "        vertical-align: top;\n",
              "    }\n",
              "\n",
              "    .dataframe thead th {\n",
              "        text-align: right;\n",
              "    }\n",
              "</style>\n",
              "<table border=\"1\" class=\"dataframe\">\n",
              "  <thead>\n",
              "    <tr style=\"text-align: right;\">\n",
              "      <th></th>\n",
              "      <th>A1_Score</th>\n",
              "      <th>A2_Score</th>\n",
              "      <th>A3_Score</th>\n",
              "      <th>A4_Score</th>\n",
              "      <th>A5_Score</th>\n",
              "      <th>A6_Score</th>\n",
              "      <th>A7_Score</th>\n",
              "      <th>A8_Score</th>\n",
              "      <th>A9_Score</th>\n",
              "      <th>A10_Score</th>\n",
              "      <th>age</th>\n",
              "      <th>gender</th>\n",
              "      <th>ethnicity</th>\n",
              "      <th>jaundice</th>\n",
              "      <th>autism</th>\n",
              "      <th>country_of_res</th>\n",
              "      <th>used_app_before</th>\n",
              "      <th>result</th>\n",
              "      <th>age_desc</th>\n",
              "      <th>relation</th>\n",
              "      <th>Class_ASD</th>\n",
              "    </tr>\n",
              "  </thead>\n",
              "  <tbody>\n",
              "    <tr>\n",
              "      <th>0</th>\n",
              "      <td>1</td>\n",
              "      <td>1</td>\n",
              "      <td>1</td>\n",
              "      <td>1</td>\n",
              "      <td>0</td>\n",
              "      <td>0</td>\n",
              "      <td>1</td>\n",
              "      <td>1</td>\n",
              "      <td>0</td>\n",
              "      <td>0</td>\n",
              "      <td>26</td>\n",
              "      <td>f</td>\n",
              "      <td>White-European</td>\n",
              "      <td>no</td>\n",
              "      <td>no</td>\n",
              "      <td>'United States'</td>\n",
              "      <td>no</td>\n",
              "      <td>6</td>\n",
              "      <td>'18 and more'</td>\n",
              "      <td>Self</td>\n",
              "      <td>NO</td>\n",
              "    </tr>\n",
              "    <tr>\n",
              "      <th>1</th>\n",
              "      <td>1</td>\n",
              "      <td>1</td>\n",
              "      <td>0</td>\n",
              "      <td>1</td>\n",
              "      <td>0</td>\n",
              "      <td>0</td>\n",
              "      <td>0</td>\n",
              "      <td>1</td>\n",
              "      <td>0</td>\n",
              "      <td>1</td>\n",
              "      <td>24</td>\n",
              "      <td>m</td>\n",
              "      <td>Latino</td>\n",
              "      <td>no</td>\n",
              "      <td>yes</td>\n",
              "      <td>Brazil</td>\n",
              "      <td>no</td>\n",
              "      <td>5</td>\n",
              "      <td>'18 and more'</td>\n",
              "      <td>Self</td>\n",
              "      <td>NO</td>\n",
              "    </tr>\n",
              "    <tr>\n",
              "      <th>2</th>\n",
              "      <td>1</td>\n",
              "      <td>1</td>\n",
              "      <td>0</td>\n",
              "      <td>1</td>\n",
              "      <td>1</td>\n",
              "      <td>0</td>\n",
              "      <td>1</td>\n",
              "      <td>1</td>\n",
              "      <td>1</td>\n",
              "      <td>1</td>\n",
              "      <td>27</td>\n",
              "      <td>m</td>\n",
              "      <td>Latino</td>\n",
              "      <td>yes</td>\n",
              "      <td>yes</td>\n",
              "      <td>Spain</td>\n",
              "      <td>no</td>\n",
              "      <td>8</td>\n",
              "      <td>'18 and more'</td>\n",
              "      <td>Parent</td>\n",
              "      <td>YES</td>\n",
              "    </tr>\n",
              "  </tbody>\n",
              "</table>\n",
              "</div>"
            ],
            "text/plain": [
              "   A1_Score  A2_Score  A3_Score  ...       age_desc  relation  Class_ASD\n",
              "0         1         1         1  ...  '18 and more'      Self         NO\n",
              "1         1         1         0  ...  '18 and more'      Self         NO\n",
              "2         1         1         0  ...  '18 and more'    Parent        YES\n",
              "\n",
              "[3 rows x 21 columns]"
            ]
          },
          "metadata": {
            "tags": []
          },
          "execution_count": 2
        }
      ]
    },
    {
      "cell_type": "code",
      "metadata": {
        "colab": {
          "base_uri": "https://localhost:8080/"
        },
        "id": "H3do1cWADo6S",
        "outputId": "5e7954cb-f89a-4c04-aca3-3d77c7bb7dfb"
      },
      "source": [
        "new_Autism.isnull().sum()"
      ],
      "execution_count": 3,
      "outputs": [
        {
          "output_type": "execute_result",
          "data": {
            "text/plain": [
              "A1_Score           0\n",
              "A2_Score           0\n",
              "A3_Score           0\n",
              "A4_Score           0\n",
              "A5_Score           0\n",
              "A6_Score           0\n",
              "A7_Score           0\n",
              "A8_Score           0\n",
              "A9_Score           0\n",
              "A10_Score          0\n",
              "age                0\n",
              "gender             0\n",
              "ethnicity          0\n",
              "jaundice           0\n",
              "autism             0\n",
              "country_of_res     0\n",
              "used_app_before    0\n",
              "result             0\n",
              "age_desc           0\n",
              "relation           0\n",
              "Class_ASD          0\n",
              "dtype: int64"
            ]
          },
          "metadata": {
            "tags": []
          },
          "execution_count": 3
        }
      ]
    },
    {
      "cell_type": "code",
      "metadata": {
        "colab": {
          "base_uri": "https://localhost:8080/",
          "height": 317
        },
        "id": "Rc5trwaWDpCQ",
        "outputId": "ecfd1e20-15bb-46f8-e295-2202aba9e65f"
      },
      "source": [
        "new_Autism.describe()"
      ],
      "execution_count": 4,
      "outputs": [
        {
          "output_type": "execute_result",
          "data": {
            "text/html": [
              "<div>\n",
              "<style scoped>\n",
              "    .dataframe tbody tr th:only-of-type {\n",
              "        vertical-align: middle;\n",
              "    }\n",
              "\n",
              "    .dataframe tbody tr th {\n",
              "        vertical-align: top;\n",
              "    }\n",
              "\n",
              "    .dataframe thead th {\n",
              "        text-align: right;\n",
              "    }\n",
              "</style>\n",
              "<table border=\"1\" class=\"dataframe\">\n",
              "  <thead>\n",
              "    <tr style=\"text-align: right;\">\n",
              "      <th></th>\n",
              "      <th>A1_Score</th>\n",
              "      <th>A2_Score</th>\n",
              "      <th>A3_Score</th>\n",
              "      <th>A4_Score</th>\n",
              "      <th>A5_Score</th>\n",
              "      <th>A6_Score</th>\n",
              "      <th>A7_Score</th>\n",
              "      <th>A8_Score</th>\n",
              "      <th>A9_Score</th>\n",
              "      <th>A10_Score</th>\n",
              "      <th>result</th>\n",
              "    </tr>\n",
              "  </thead>\n",
              "  <tbody>\n",
              "    <tr>\n",
              "      <th>count</th>\n",
              "      <td>704.000000</td>\n",
              "      <td>704.000000</td>\n",
              "      <td>704.000000</td>\n",
              "      <td>704.000000</td>\n",
              "      <td>704.000000</td>\n",
              "      <td>704.000000</td>\n",
              "      <td>704.000000</td>\n",
              "      <td>704.000000</td>\n",
              "      <td>704.000000</td>\n",
              "      <td>704.000000</td>\n",
              "      <td>704.000000</td>\n",
              "    </tr>\n",
              "    <tr>\n",
              "      <th>mean</th>\n",
              "      <td>0.721591</td>\n",
              "      <td>0.453125</td>\n",
              "      <td>0.457386</td>\n",
              "      <td>0.495739</td>\n",
              "      <td>0.498580</td>\n",
              "      <td>0.284091</td>\n",
              "      <td>0.417614</td>\n",
              "      <td>0.649148</td>\n",
              "      <td>0.323864</td>\n",
              "      <td>0.573864</td>\n",
              "      <td>4.875000</td>\n",
              "    </tr>\n",
              "    <tr>\n",
              "      <th>std</th>\n",
              "      <td>0.448535</td>\n",
              "      <td>0.498152</td>\n",
              "      <td>0.498535</td>\n",
              "      <td>0.500337</td>\n",
              "      <td>0.500353</td>\n",
              "      <td>0.451301</td>\n",
              "      <td>0.493516</td>\n",
              "      <td>0.477576</td>\n",
              "      <td>0.468281</td>\n",
              "      <td>0.494866</td>\n",
              "      <td>2.501493</td>\n",
              "    </tr>\n",
              "    <tr>\n",
              "      <th>min</th>\n",
              "      <td>0.000000</td>\n",
              "      <td>0.000000</td>\n",
              "      <td>0.000000</td>\n",
              "      <td>0.000000</td>\n",
              "      <td>0.000000</td>\n",
              "      <td>0.000000</td>\n",
              "      <td>0.000000</td>\n",
              "      <td>0.000000</td>\n",
              "      <td>0.000000</td>\n",
              "      <td>0.000000</td>\n",
              "      <td>0.000000</td>\n",
              "    </tr>\n",
              "    <tr>\n",
              "      <th>25%</th>\n",
              "      <td>0.000000</td>\n",
              "      <td>0.000000</td>\n",
              "      <td>0.000000</td>\n",
              "      <td>0.000000</td>\n",
              "      <td>0.000000</td>\n",
              "      <td>0.000000</td>\n",
              "      <td>0.000000</td>\n",
              "      <td>0.000000</td>\n",
              "      <td>0.000000</td>\n",
              "      <td>0.000000</td>\n",
              "      <td>3.000000</td>\n",
              "    </tr>\n",
              "    <tr>\n",
              "      <th>50%</th>\n",
              "      <td>1.000000</td>\n",
              "      <td>0.000000</td>\n",
              "      <td>0.000000</td>\n",
              "      <td>0.000000</td>\n",
              "      <td>0.000000</td>\n",
              "      <td>0.000000</td>\n",
              "      <td>0.000000</td>\n",
              "      <td>1.000000</td>\n",
              "      <td>0.000000</td>\n",
              "      <td>1.000000</td>\n",
              "      <td>4.000000</td>\n",
              "    </tr>\n",
              "    <tr>\n",
              "      <th>75%</th>\n",
              "      <td>1.000000</td>\n",
              "      <td>1.000000</td>\n",
              "      <td>1.000000</td>\n",
              "      <td>1.000000</td>\n",
              "      <td>1.000000</td>\n",
              "      <td>1.000000</td>\n",
              "      <td>1.000000</td>\n",
              "      <td>1.000000</td>\n",
              "      <td>1.000000</td>\n",
              "      <td>1.000000</td>\n",
              "      <td>7.000000</td>\n",
              "    </tr>\n",
              "    <tr>\n",
              "      <th>max</th>\n",
              "      <td>1.000000</td>\n",
              "      <td>1.000000</td>\n",
              "      <td>1.000000</td>\n",
              "      <td>1.000000</td>\n",
              "      <td>1.000000</td>\n",
              "      <td>1.000000</td>\n",
              "      <td>1.000000</td>\n",
              "      <td>1.000000</td>\n",
              "      <td>1.000000</td>\n",
              "      <td>1.000000</td>\n",
              "      <td>10.000000</td>\n",
              "    </tr>\n",
              "  </tbody>\n",
              "</table>\n",
              "</div>"
            ],
            "text/plain": [
              "         A1_Score    A2_Score    A3_Score  ...    A9_Score   A10_Score      result\n",
              "count  704.000000  704.000000  704.000000  ...  704.000000  704.000000  704.000000\n",
              "mean     0.721591    0.453125    0.457386  ...    0.323864    0.573864    4.875000\n",
              "std      0.448535    0.498152    0.498535  ...    0.468281    0.494866    2.501493\n",
              "min      0.000000    0.000000    0.000000  ...    0.000000    0.000000    0.000000\n",
              "25%      0.000000    0.000000    0.000000  ...    0.000000    0.000000    3.000000\n",
              "50%      1.000000    0.000000    0.000000  ...    0.000000    1.000000    4.000000\n",
              "75%      1.000000    1.000000    1.000000  ...    1.000000    1.000000    7.000000\n",
              "max      1.000000    1.000000    1.000000  ...    1.000000    1.000000   10.000000\n",
              "\n",
              "[8 rows x 11 columns]"
            ]
          },
          "metadata": {
            "tags": []
          },
          "execution_count": 4
        }
      ]
    },
    {
      "cell_type": "code",
      "metadata": {
        "colab": {
          "base_uri": "https://localhost:8080/"
        },
        "id": "6Md68lRQD_oJ",
        "outputId": "2c466bdb-b85c-40e6-81f9-3b540d078c08"
      },
      "source": [
        "for i in new_Autism.columns:\n",
        "  print(set(new_Autism[i].tolist()))"
      ],
      "execution_count": 46,
      "outputs": [
        {
          "output_type": "stream",
          "text": [
            "{0, 1}\n",
            "{0, 1}\n",
            "{0, 1}\n",
            "{0, 1}\n",
            "{0, 1}\n",
            "{0, 1}\n",
            "{0, 1}\n",
            "{0, 1}\n",
            "{0, 1}\n",
            "{0, 1}\n",
            "{'?', '47', '50', '27', '60', '26', '55', '34', '25', '42', '46', '35', '36', '30', '28', '22', '44', '58', '41', '48', '31', '52', '39', '56', '19', '59', '38', '49', '53', '45', '32', '61', '54', '51', '43', '29', '17', '33', '20', '383', '24', '37', '40', '64', '23', '21', '18'}\n",
            "{'m', 'f'}\n",
            "{'?', 'Others', 'Hispanic', 'White-European', 'Black', 'Latino', 'Turkish', 'Pasifika', \"'South Asian'\", 'others', \"'Middle Eastern '\", 'Asian'}\n",
            "{'no', 'yes'}\n",
            "{'no', 'yes'}\n",
            "{\"'Sierra Leone'\", 'Russia', 'Kazakhstan', 'Ukraine', 'Germany', \"'United Arab Emirates'\", 'Egypt', 'Turkey', 'Jordan', 'Chile', 'Iceland', 'Spain', 'Serbia', 'Argentina', \"'United States'\", 'Nicaragua', 'Niger', \"'Czech Republic'\", 'Iran', 'Iraq', \"'United Kingdom'\", 'AmericanSamoa', 'Nepal', 'Japan', 'Portugal', 'Cyprus', 'Australia', \"'Costa Rica'\", \"'South Africa'\", 'Oman', \"'Saudi Arabia'\", 'Armenia', \"'New Zealand'\", 'China', 'Indonesia', 'Netherlands', 'Ethiopia', 'Romania', 'Azerbaijan', 'Burundi', 'Belgium', 'Aruba', 'Ecuador', 'Brazil', 'Bahamas', 'Canada', 'Philippines', 'Bolivia', 'Pakistan', 'India', 'Lebanon', 'Uruguay', 'Austria', 'Ireland', \"'Viet Nam'\", 'Mexico', 'Sweden', 'Malaysia', 'France', 'Tonga', \"'Hong Kong'\", 'Bangladesh', 'Italy', 'Afghanistan', 'Finland', 'Angola', \"'Sri Lanka'\"}\n",
            "{'no', 'yes'}\n",
            "{0, 1, 2, 3, 4, 5, 6, 7, 8, 9, 10}\n",
            "{\"'18 and more'\"}\n",
            "{'?', 'Others', \"'Health care professional'\", 'Parent', 'Relative', 'Self'}\n",
            "{'NO', 'YES}', 'YES'}\n"
          ],
          "name": "stdout"
        }
      ]
    },
    {
      "cell_type": "code",
      "metadata": {
        "colab": {
          "base_uri": "https://localhost:8080/"
        },
        "id": "jQpaNTVdD_wO",
        "outputId": "747cf146-4490-4513-e73c-cdc005370854"
      },
      "source": [
        "# we can see there is a special character in many of this columns \n",
        "set(new_Autism['age'].tolist())\n",
        "new_Autism['age'].mode()"
      ],
      "execution_count": 6,
      "outputs": [
        {
          "output_type": "execute_result",
          "data": {
            "text/plain": [
              "0    21\n",
              "dtype: object"
            ]
          },
          "metadata": {
            "tags": []
          },
          "execution_count": 6
        }
      ]
    },
    {
      "cell_type": "code",
      "metadata": {
        "colab": {
          "base_uri": "https://localhost:8080/"
        },
        "id": "OK2tW9SSD_4u",
        "outputId": "35ab6688-b416-4d0f-8d59-e782ba63359d"
      },
      "source": [
        "list(map(lambda x:'21' if x=='?' else x,set(new_Autism['age'].tolist())))"
      ],
      "execution_count": 7,
      "outputs": [
        {
          "output_type": "execute_result",
          "data": {
            "text/plain": [
              "['21',\n",
              " '47',\n",
              " '50',\n",
              " '27',\n",
              " '60',\n",
              " '26',\n",
              " '55',\n",
              " '34',\n",
              " '25',\n",
              " '42',\n",
              " '46',\n",
              " '35',\n",
              " '36',\n",
              " '30',\n",
              " '28',\n",
              " '22',\n",
              " '44',\n",
              " '58',\n",
              " '41',\n",
              " '48',\n",
              " '31',\n",
              " '52',\n",
              " '39',\n",
              " '56',\n",
              " '19',\n",
              " '59',\n",
              " '38',\n",
              " '49',\n",
              " '53',\n",
              " '45',\n",
              " '32',\n",
              " '61',\n",
              " '54',\n",
              " '51',\n",
              " '43',\n",
              " '29',\n",
              " '17',\n",
              " '33',\n",
              " '20',\n",
              " '383',\n",
              " '24',\n",
              " '37',\n",
              " '40',\n",
              " '64',\n",
              " '23',\n",
              " '21',\n",
              " '18']"
            ]
          },
          "metadata": {
            "tags": []
          },
          "execution_count": 7
        }
      ]
    },
    {
      "cell_type": "code",
      "metadata": {
        "colab": {
          "base_uri": "https://localhost:8080/"
        },
        "id": "Ml2JhB9CEAAl",
        "outputId": "126cdf91-077f-4cf1-fd18-1515cc87d160"
      },
      "source": [
        "list(map(lambda x:'unknown' if x=='?' else x,set(new_Autism['ethnicity'].tolist())))"
      ],
      "execution_count": 8,
      "outputs": [
        {
          "output_type": "execute_result",
          "data": {
            "text/plain": [
              "['unknown',\n",
              " 'Others',\n",
              " 'Hispanic',\n",
              " 'White-European',\n",
              " 'Black',\n",
              " 'Latino',\n",
              " 'Turkish',\n",
              " 'Pasifika',\n",
              " \"'South Asian'\",\n",
              " 'others',\n",
              " \"'Middle Eastern '\",\n",
              " 'Asian']"
            ]
          },
          "metadata": {
            "tags": []
          },
          "execution_count": 8
        }
      ]
    },
    {
      "cell_type": "code",
      "metadata": {
        "colab": {
          "base_uri": "https://localhost:8080/",
          "height": 334
        },
        "id": "pdiK_mUpKJzo",
        "outputId": "fd8e2ca0-8d9e-4d4b-f8f2-1d881c610a6f"
      },
      "source": [
        "plt.figure(figsize=(5,5))\n",
        "sns.countplot(x='gender',hue='autism',data=new_Autism)\n",
        "plt.show()"
      ],
      "execution_count": 27,
      "outputs": [
        {
          "output_type": "display_data",
          "data": {
            "image/png": "[encoded data removed]",
            "text/plain": [
              "<Figure size 360x360 with 1 Axes>"
            ]
          },
          "metadata": {
            "tags": [],
            "needs_background": "light"
          }
        }
      ]
    },
    {
      "cell_type": "code",
      "metadata": {
        "colab": {
          "base_uri": "https://localhost:8080/"
        },
        "id": "esaq4fMhKKHW",
        "outputId": "e97252fa-e9f7-4e7f-c6b4-011baf0b1437"
      },
      "source": [
        "new_Autism['autism'].groupby(new_Autism['jaundice']).value_counts().sort_index(ascending=False)"
      ],
      "execution_count": 28,
      "outputs": [
        {
          "output_type": "execute_result",
          "data": {
            "text/plain": [
              "jaundice  autism\n",
              "yes       yes        20\n",
              "          no         49\n",
              "no        yes        71\n",
              "          no        564\n",
              "Name: autism, dtype: int64"
            ]
          },
          "metadata": {
            "tags": []
          },
          "execution_count": 28
        }
      ]
    },
    {
      "cell_type": "markdown",
      "metadata": {
        "id": "mATbMxliKTQ-"
      },
      "source": [
        "jaundice and autism has no relation with each other"
      ]
    },
    {
      "cell_type": "code",
      "metadata": {
        "colab": {
          "base_uri": "https://localhost:8080/",
          "height": 447
        },
        "id": "hn8YyYamKKPU",
        "outputId": "adc34079-0b72-4877-b186-19f83ba63a42"
      },
      "source": [
        "new_Autism['Class_ASD'].groupby(new_Autism['relation']).value_counts().sort_index(ascending=False).plot.bar()"
      ],
      "execution_count": 29,
      "outputs": [
        {
          "output_type": "execute_result",
          "data": {
            "text/plain": [
              "<matplotlib.axes._subplots.AxesSubplot at 0x7f962d12af90>"
            ]
          },
          "metadata": {
            "tags": []
          },
          "execution_count": 29
        },
        {
          "output_type": "display_data",
          "data": {
            "image/png": "[encoded data removed]",
            "text/plain": [
              "<Figure size 432x288 with 1 Axes>"
            ]
          },
          "metadata": {
            "tags": [],
            "needs_background": "light"
          }
        }
      ]
    },
    {
      "cell_type": "code",
      "metadata": {
        "colab": {
          "base_uri": "https://localhost:8080/",
          "height": 1000
        },
        "id": "R-pj9Vd2KbfI",
        "outputId": "48d2e393-7871-4b56-a556-e24f368272a0"
      },
      "source": [
        "plt.figure(figsize=(20,20))\n",
        "corr=new_Autism.corr()\n",
        "sns.heatmap(corr,annot=True)"
      ],
      "execution_count": 30,
      "outputs": [
        {
          "output_type": "execute_result",
          "data": {
            "text/plain": [
              "<matplotlib.axes._subplots.AxesSubplot at 0x7f962d05aa50>"
            ]
          },
          "metadata": {
            "tags": []
          },
          "execution_count": 30
        },
        {
          "output_type": "display_data",
          "data": {
            "image/png": "[encoded data removed]",
            "text/plain": [
              "<Figure size 1440x1440 with 2 Axes>"
            ]
          },
          "metadata": {
            "tags": [],
            "needs_background": "light"
          }
        }
      ]
    },
    {
      "cell_type": "markdown",
      "metadata": {
        "id": "nk-TBXGNKi7R"
      },
      "source": [
        "correlation factor by which we can drop features too but our correlation value is very low which will not be helpful to drop feature in that basic so we will drop by using model feature importance\n",
        "\n",
        "def correlation(dataset, threshold): col_corr = set() # Set of all the names of correlated columns corr_matrix = dataset.corr() for i in range(len(corr_matrix.columns)): for j in range(i): if abs(corr_matrix.iloc[i, j]) > threshold: # we are interested in absolute coeff value colname = corr_matrix.columns[i] # getting the name of column col_corr.add(colname) return col_corr"
      ]
    },
    {
      "cell_type": "code",
      "metadata": {
        "id": "a4vIhlibKcw0"
      },
      "source": [
        "#corr_features= correlation(X_train, 0.3)\n",
        "#len(set(corr_features))"
      ],
      "execution_count": null,
      "outputs": []
    },
    {
      "cell_type": "code",
      "metadata": {
        "colab": {
          "base_uri": "https://localhost:8080/",
          "height": 131
        },
        "id": "GhWVrAxsEAIn",
        "outputId": "b0a6a672-5292-47a5-e915-3e4747abd56c"
      },
      "source": [
        "from sklearn.preprocessing import LabelEncoder\n",
        "lb=LabelEncoder()\n",
        "lb_df=new_Autism.apply(lb.fit_transform)\n",
        "lb_df.head(n=2)"
      ],
      "execution_count": 9,
      "outputs": [
        {
          "output_type": "execute_result",
          "data": {
            "text/html": [
              "<div>\n",
              "<style scoped>\n",
              "    .dataframe tbody tr th:only-of-type {\n",
              "        vertical-align: middle;\n",
              "    }\n",
              "\n",
              "    .dataframe tbody tr th {\n",
              "        vertical-align: top;\n",
              "    }\n",
              "\n",
              "    .dataframe thead th {\n",
              "        text-align: right;\n",
              "    }\n",
              "</style>\n",
              "<table border=\"1\" class=\"dataframe\">\n",
              "  <thead>\n",
              "    <tr style=\"text-align: right;\">\n",
              "      <th></th>\n",
              "      <th>A1_Score</th>\n",
              "      <th>A2_Score</th>\n",
              "      <th>A3_Score</th>\n",
              "      <th>A4_Score</th>\n",
              "      <th>A5_Score</th>\n",
              "      <th>A6_Score</th>\n",
              "      <th>A7_Score</th>\n",
              "      <th>A8_Score</th>\n",
              "      <th>A9_Score</th>\n",
              "      <th>A10_Score</th>\n",
              "      <th>age</th>\n",
              "      <th>gender</th>\n",
              "      <th>ethnicity</th>\n",
              "      <th>jaundice</th>\n",
              "      <th>autism</th>\n",
              "      <th>country_of_res</th>\n",
              "      <th>used_app_before</th>\n",
              "      <th>result</th>\n",
              "      <th>age_desc</th>\n",
              "      <th>relation</th>\n",
              "      <th>Class_ASD</th>\n",
              "    </tr>\n",
              "  </thead>\n",
              "  <tbody>\n",
              "    <tr>\n",
              "      <th>0</th>\n",
              "      <td>1</td>\n",
              "      <td>1</td>\n",
              "      <td>1</td>\n",
              "      <td>1</td>\n",
              "      <td>0</td>\n",
              "      <td>0</td>\n",
              "      <td>1</td>\n",
              "      <td>1</td>\n",
              "      <td>0</td>\n",
              "      <td>0</td>\n",
              "      <td>9</td>\n",
              "      <td>0</td>\n",
              "      <td>10</td>\n",
              "      <td>0</td>\n",
              "      <td>0</td>\n",
              "      <td>10</td>\n",
              "      <td>0</td>\n",
              "      <td>6</td>\n",
              "      <td>0</td>\n",
              "      <td>5</td>\n",
              "      <td>0</td>\n",
              "    </tr>\n",
              "    <tr>\n",
              "      <th>1</th>\n",
              "      <td>1</td>\n",
              "      <td>1</td>\n",
              "      <td>0</td>\n",
              "      <td>1</td>\n",
              "      <td>0</td>\n",
              "      <td>0</td>\n",
              "      <td>0</td>\n",
              "      <td>1</td>\n",
              "      <td>0</td>\n",
              "      <td>1</td>\n",
              "      <td>7</td>\n",
              "      <td>1</td>\n",
              "      <td>6</td>\n",
              "      <td>0</td>\n",
              "      <td>1</td>\n",
              "      <td>25</td>\n",
              "      <td>0</td>\n",
              "      <td>5</td>\n",
              "      <td>0</td>\n",
              "      <td>5</td>\n",
              "      <td>0</td>\n",
              "    </tr>\n",
              "  </tbody>\n",
              "</table>\n",
              "</div>"
            ],
            "text/plain": [
              "   A1_Score  A2_Score  A3_Score  ...  age_desc  relation  Class_ASD\n",
              "0         1         1         1  ...         0         5          0\n",
              "1         1         1         0  ...         0         5          0\n",
              "\n",
              "[2 rows x 21 columns]"
            ]
          },
          "metadata": {
            "tags": []
          },
          "execution_count": 9
        }
      ]
    },
    {
      "cell_type": "code",
      "metadata": {
        "id": "bYNvkECpEAQp"
      },
      "source": [
        "X=lb_df.drop(['Class_ASD'],axis=1)  #Feature Matrix\n",
        "y=lb_df['Class_ASD']"
      ],
      "execution_count": 11,
      "outputs": []
    },
    {
      "cell_type": "code",
      "metadata": {
        "id": "8qtpr2O0EAYi"
      },
      "source": [
        "from sklearn.model_selection import train_test_split\n",
        "X_train, X_test, y_train, y_test = train_test_split(X, y, test_size=0.3, random_state=0)"
      ],
      "execution_count": 12,
      "outputs": []
    },
    {
      "cell_type": "code",
      "metadata": {
        "id": "jdVFBP1JDpFe"
      },
      "source": [
        "from sklearn.datasets import make_classification\n",
        "from sklearn.linear_model import LogisticRegression\n",
        "from sklearn.model_selection import train_test_split\n",
        "from sklearn.pipeline import make_pipeline\n",
        "from sklearn.preprocessing import StandardScaler"
      ],
      "execution_count": 19,
      "outputs": []
    },
    {
      "cell_type": "code",
      "metadata": {
        "colab": {
          "base_uri": "https://localhost:8080/"
        },
        "id": "TZWQIlvDFCf5",
        "outputId": "f9620e5b-4b90-44ed-a463-4a6689405540"
      },
      "source": [
        "X, y = make_classification(random_state=42)\n",
        "X_train, X_test, y_train, y_test = train_test_split(X, y, random_state=42)\n",
        "pipe = make_pipeline(StandardScaler(), LogisticRegression())\n",
        "pipe.fit(X_train, y_train)  # apply scaling on training data\n",
        "#Pipeline(steps=[('standardscaler', StandardScaler()),\n",
        "                #('logisticregression', LogisticRegression())])\n"
      ],
      "execution_count": 21,
      "outputs": [
        {
          "output_type": "execute_result",
          "data": {
            "text/plain": [
              "Pipeline(memory=None,\n",
              "         steps=[('standardscaler',\n",
              "                 StandardScaler(copy=True, with_mean=True, with_std=True)),\n",
              "                ('logisticregression',\n",
              "                 LogisticRegression(C=1.0, class_weight=None, dual=False,\n",
              "                                    fit_intercept=True, intercept_scaling=1,\n",
              "                                    l1_ratio=None, max_iter=100,\n",
              "                                    multi_class='auto', n_jobs=None,\n",
              "                                    penalty='l2', random_state=None,\n",
              "                                    solver='lbfgs', tol=0.0001, verbose=0,\n",
              "                                    warm_start=False))],\n",
              "         verbose=False)"
            ]
          },
          "metadata": {
            "tags": []
          },
          "execution_count": 21
        }
      ]
    },
    {
      "cell_type": "code",
      "metadata": {
        "colab": {
          "base_uri": "https://localhost:8080/"
        },
        "id": "EREYrH60GOhW",
        "outputId": "78259146-f024-44eb-bebe-3aec660fd988"
      },
      "source": [
        "pipe.score(X_test, y_test)"
      ],
      "execution_count": 22,
      "outputs": [
        {
          "output_type": "execute_result",
          "data": {
            "text/plain": [
              "0.96"
            ]
          },
          "metadata": {
            "tags": []
          },
          "execution_count": 22
        }
      ]
    },
    {
      "cell_type": "code",
      "metadata": {
        "id": "zSfzYTVlHCEz"
      },
      "source": [
        "predictions=pipe.predict(X_test)"
      ],
      "execution_count": 23,
      "outputs": []
    },
    {
      "cell_type": "code",
      "metadata": {
        "colab": {
          "base_uri": "https://localhost:8080/"
        },
        "id": "RN9CbXnSGuNZ",
        "outputId": "58b38b7a-bd8e-4e73-e047-3c191af83dcc"
      },
      "source": [
        "from sklearn.metrics import accuracy_score\n",
        "acc=accuracy_score(y_test,predictions)\n",
        "acc"
      ],
      "execution_count": 24,
      "outputs": [
        {
          "output_type": "execute_result",
          "data": {
            "text/plain": [
              "0.96"
            ]
          },
          "metadata": {
            "tags": []
          },
          "execution_count": 24
        }
      ]
    },
    {
      "cell_type": "code",
      "metadata": {
        "colab": {
          "base_uri": "https://localhost:8080/",
          "height": 394
        },
        "id": "bef8WlU5HUJq",
        "outputId": "58e70b84-dfea-4710-fd1c-421743b4a349"
      },
      "source": [
        "from sklearn.metrics import confusion_matrix,classification_report\n",
        "cf=confusion_matrix(y_test,predictions)\n",
        "cf_matrix=pd.DataFrame(data=cf,columns=['Predicted:0','Predicted:1'],index=['Actual:0','Actual:1'])\n",
        "plt.figure(figsize=(8,6))\n",
        "sns.heatmap(cf_matrix,annot=True,fmt='d',cmap='Pastel1')\n",
        "fm={'size':18,'color':'#fbb4ae','weight':'bold'}\n",
        "plt.title('Logistic Model',**fm)\n",
        "plt.show()"
      ],
      "execution_count": 37,
      "outputs": [
        {
          "output_type": "display_data",
          "data": {
            "image/png": "[encoded data removed]",
            "text/plain": [
              "<Figure size 576x432 with 2 Axes>"
            ]
          },
          "metadata": {
            "tags": [],
            "needs_background": "light"
          }
        }
      ]
    },
    {
      "cell_type": "markdown",
      "metadata": {
        "id": "sAXNQ49COTMc"
      },
      "source": [
        "##We can see our FN & TN is almost 0 which is very good when it comes about healthcare problems\n",
        "##whereas FN & TN is also called as TypeI and Type II error"
      ]
    },
    {
      "cell_type": "code",
      "metadata": {
        "colab": {
          "base_uri": "https://localhost:8080/"
        },
        "id": "yGXytdFcLxjF",
        "outputId": "06b379ab-98c6-41ca-9bf9-f8ccfd3e804f"
      },
      "source": [
        "cr=classification_report(y_test,predictions)\n",
        "print(cr)"
      ],
      "execution_count": 34,
      "outputs": [
        {
          "output_type": "stream",
          "text": [
            "              precision    recall  f1-score   support\n",
            "\n",
            "           0       1.00      0.93      0.97        15\n",
            "           1       0.91      1.00      0.95        10\n",
            "\n",
            "    accuracy                           0.96        25\n",
            "   macro avg       0.95      0.97      0.96        25\n",
            "weighted avg       0.96      0.96      0.96        25\n",
            "\n"
          ],
          "name": "stdout"
        }
      ]
    },
    {
      "cell_type": "code",
      "metadata": {
        "id": "Lx7s2pvjSsE0"
      },
      "source": [
        "y_score1 =pipe.predict_proba(X_test)[:,1]"
      ],
      "execution_count": 39,
      "outputs": []
    },
    {
      "cell_type": "code",
      "metadata": {
        "colab": {
          "base_uri": "https://localhost:8080/"
        },
        "id": "H8LFkYhfFCya",
        "outputId": "db9744a1-1ad6-4176-9bcd-6dfb028988c2"
      },
      "source": [
        "from sklearn import metrics\n",
        "from sklearn.metrics import roc_curve, roc_auc_score\n",
        "false_positive_rate1, true_positive_rate1, threshold1=metrics.roc_curve(y_test, y_score1)\n",
        "print('roc_auc_score for DecisionTree: ', roc_auc_score(y_test, y_score1))"
      ],
      "execution_count": 42,
      "outputs": [
        {
          "output_type": "stream",
          "text": [
            "roc_auc_score for DecisionTree:  1.0\n"
          ],
          "name": "stdout"
        }
      ]
    },
    {
      "cell_type": "code",
      "metadata": {
        "colab": {
          "base_uri": "https://localhost:8080/",
          "height": 404
        },
        "id": "Kn54Kw_cTbst",
        "outputId": "baed034a-dd8d-430e-8784-c3eab88a1ee0"
      },
      "source": [
        "plt.figure(figsize=(5,6))\n",
        "plt.title('Receiver Operating Characteristic - Logistic Regression')\n",
        "plt.plot(false_positive_rate1, true_positive_rate1)\n",
        "plt.plot([0, 1], ls=\"--\")\n",
        "plt.plot([0, 0], [1, 0] , c=\".7\"), plt.plot([1, 1] , c=\".7\")\n",
        "plt.ylabel('True Positive Rate')\n",
        "plt.xlabel('False Positive Rate')\n",
        "plt.show()"
      ],
      "execution_count": 44,
      "outputs": [
        {
          "output_type": "display_data",
          "data": {
            "image/png": "[encoded data removed]",
            "text/plain": [
              "<Figure size 360x432 with 1 Axes>"
            ]
          },
          "metadata": {
            "tags": [],
            "needs_background": "light"
          }
        }
      ]
    }
  ]
}